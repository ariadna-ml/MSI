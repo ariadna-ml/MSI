{
 "cells": [
  {
   "cell_type": "markdown",
   "metadata": {},
   "source": [
    "# Project 2 MSI - Ariadna Marín"
   ]
  },
  {
   "cell_type": "code",
   "execution_count": null,
   "metadata": {
    "collapsed": false
   },
   "outputs": [],
   "source": [
    "from htmd import *\n",
    "#htmd.config(viewer='ngl')\n",
    "import os \n",
    "from scipy.ndimage.filters import gaussian_filter"
   ]
  },
  {
   "cell_type": "code",
   "execution_count": null,
   "metadata": {
    "collapsed": false
   },
   "outputs": [],
   "source": [
    "def generate_mat(mol,mol_ref):\n",
    "    '''Function to generate normalized count matrix from molecule object'''\n",
    "    mat = np.zeros((myrange,myrange,myrange))\n",
    "    # center and wrap waters\n",
    "    mol.wrap('protein') # avoid waters to expand\n",
    "    mol.align('protein',mol_ref) # align all prots\n",
    "    # get Oxigen from waters\n",
    "    watermol = mol.copy()\n",
    "    watermol.filter('name OH2')\n",
    "    # modify abnormal points\n",
    "    s1 = (watermol.coords < myrange/2) # bigger than max cube\n",
    "    s2 = (watermol.coords > -myrange/2) # smaller than min cube\n",
    "    m1 = watermol.coords * s1\n",
    "    mwater = m1 * s2\n",
    "    # get matrix\n",
    "    for i in range(0,watermol.coords.shape[0]):\n",
    "        for t in range(0,watermol.coords.shape[2]):\n",
    "            x = int(round(mwater[i][0][t]+myrange/2))\n",
    "            y = int(round(mwater[i][1][t]+myrange/2))\n",
    "            z = int(round(mwater[i][2][t]+myrange/2))    \n",
    "            mat[x][y][z] += 1\n",
    "    mat_norm = (10**-20 + mat) / (watermol.coords.shape[0]*watermol.coords.shape[2])\n",
    "    return mat_norm"
   ]
  },
  {
   "cell_type": "code",
   "execution_count": null,
   "metadata": {
    "collapsed": true
   },
   "outputs": [],
   "source": [
    "# constants for G computation\n",
    "kB = 0.001987191\n",
    "T = 298 # 25C -> 298K\n",
    "# coordinates range & initial matrix\n",
    "myrange = 120\n",
    "mymat = np.zeros((myrange,myrange,myrange))"
   ]
  },
  {
   "cell_type": "code",
   "execution_count": null,
   "metadata": {
    "collapsed": true
   },
   "outputs": [],
   "source": [
    "# get subfolders\n",
    "path = [name for name in os.listdir(\".\") if os.path.isdir(name)]\n",
    "l = 0 # number of folders averaged\n",
    "# load reference\n",
    "mol_ref = Molecule('./2x16/structure.pdb')\n",
    "mol_ref.center('protein') "
   ]
  },
  {
   "cell_type": "code",
   "execution_count": null,
   "metadata": {
    "collapsed": false
   },
   "outputs": [],
   "source": [
    "# run for every folder\n",
    "for name in path:\n",
    "    path_pdb = name + '/structure.pdb'\n",
    "    path_traj = name + '/traj.xtc'\n",
    "    print(path_pdb)\n",
    "    try:\n",
    "        mol = Molecule(path_pdb)\n",
    "        mol.read(path_traj) \n",
    "        l += 1\n",
    "        mymat2 = generate_mat(mol,mol_ref)\n",
    "        mymat += mymat2\n",
    "        #np.save(name,mymat2) # save matrix for each folder's structure\n",
    "    except:\n",
    "        pass\n"
   ]
  },
  {
   "cell_type": "code",
   "execution_count": null,
   "metadata": {
    "collapsed": false
   },
   "outputs": [],
   "source": [
    "# normalization and filtering\n",
    "mymat_norm = mymat/l\n",
    "np.save('average_prob',mymat_norm)\n",
    "G = - kB * T * np.log(mymat_norm) # apply free energy\n",
    "mymat_norm_filt = gaussian_filter(mymat_norm, 1.5)\n",
    "G2 = - kB * T * np.log(mymat_norm_filt) # apply free energy"
   ]
  },
  {
   "cell_type": "code",
   "execution_count": null,
   "metadata": {
    "collapsed": true
   },
   "outputs": [],
   "source": [
    "# create cube object\n",
    "mi = np.asarray([-int(myrange/2),-int(myrange/2),-int(myrange/2)]) # min coords\n",
    "ma = np.asarray([int(myrange/2),int(myrange/2),int(myrange/2)]) # max coords\n",
    "res = np.asarray([1,1,1]) # resolution\n",
    "molecule.util.writeVoxels(G,'final.cube',mi,ma,res) # average cube\n",
    "molecule.util.writeVoxels(G2,'final_filtered.cube',mi,ma,res) # filtered average cube"
   ]
  }
 ],
 "metadata": {
  "kernelspec": {
   "display_name": "Python 3",
   "language": "python",
   "name": "python3"
  },
  "language_info": {
   "codemirror_mode": {
    "name": "ipython",
    "version": 3
   },
   "file_extension": ".py",
   "mimetype": "text/x-python",
   "name": "python",
   "nbconvert_exporter": "python",
   "pygments_lexer": "ipython3",
   "version": "3.5.1"
  }
 },
 "nbformat": 4,
 "nbformat_minor": 0
}
